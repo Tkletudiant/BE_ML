{
 "cells": [
  {
   "cell_type": "markdown",
   "id": "f5f722bc",
   "metadata": {},
   "source": [
    "# BE Machine Learning\n",
    "## Bitcoin Heist\n"
   ]
  },
  {
   "cell_type": "markdown",
   "id": "59e6cda1",
   "metadata": {},
   "source": [
    "#### On choisi tune detection d'annomalie\n",
    " \n",
    "On ne sait pas quel va etre le type du prochain ransomware donc on prefere etre sur de detecetr un white que essayer de chercher les ransomware\n"
   ]
  },
  {
   "cell_type": "code",
   "execution_count": 4,
   "id": "09f12d61",
   "metadata": {},
   "outputs": [],
   "source": [
    "# import necessary libraries\n",
    "import numpy as np\n",
    "import pandas as pd\n",
    "import matplotlib.pyplot as plt\n",
    "\n",
    "from sklearn.model_selection import train_test_split\n",
    "from sklearn.preprocessing import StandardScaler\n",
    "from sklearn.ensemble import RandomForestClassifier\n",
    "from sklearn.metrics import classification_report, confusion_matrix, roc_auc_score, average_precision_score\n",
    "\n",
    "from sklearn.decomposition import PCA\n",
    "from sklearn.pipeline import Pipeline\n",
    "from sklearn.preprocessing import StandardScaler\n",
    "from sklearn.model_selection import GridSearchCV"
   ]
  },
  {
   "cell_type": "code",
   "execution_count": 5,
   "id": "4d576872",
   "metadata": {},
   "outputs": [],
   "source": [
    "# load the dataset in a pandas DataFrame\n",
    "df = pd.read_csv('data/BitcoinHeistData.csv')"
   ]
  },
  {
   "cell_type": "code",
   "execution_count": 6,
   "id": "45049607",
   "metadata": {},
   "outputs": [
    {
     "name": "stdout",
     "output_type": "stream",
     "text": [
      "dataset shape: (2916697, 10)\n",
      "columns names: ['address', 'year', 'day', 'length', 'weight', 'count', 'looped', 'neighbors', 'income', 'label']\n",
      "                              address  year  day  length    weight  count  \\\n",
      "0   111K8kZAEnJg245r2cM6y9zgJGHZtJPy6  2017   11      18  0.008333      1   \n",
      "1  1123pJv8jzeFQaCV4w644pzQJzVWay2zcA  2016  132      44  0.000244      1   \n",
      "2  112536im7hy6wtKbpH1qYDWtTyMRAcA2p7  2016  246       0  1.000000      1   \n",
      "3  1126eDRw2wqSkWosjTCre8cjjQW8sSeWH7  2016  322      72  0.003906      1   \n",
      "4  1129TSjKtx65E35GiUo4AYVeyo48twbrGX  2016  238     144  0.072848    456   \n",
      "\n",
      "   looped  neighbors       income            label  \n",
      "0       0          2  100050000.0  princetonCerber  \n",
      "1       0          1  100000000.0   princetonLocky  \n",
      "2       0          2  200000000.0  princetonCerber  \n",
      "3       0          2   71200000.0  princetonCerber  \n",
      "4       0          1  200000000.0   princetonLocky  \n",
      "['princetonCerber', 'princetonLocky', 'montrealCryptoLocker', 'montrealCryptXXX', 'paduaCryptoWall', 'montrealWannaCry', 'montrealDMALockerv3', 'montrealCryptoTorLocker2015', 'montrealSamSam', 'montrealFlyper', 'montrealNoobCrypt', 'montrealDMALocker', 'montrealGlobe', 'montrealEDA2', 'paduaKeRanger', 'montrealVenusLocker', 'montrealXTPLocker', 'paduaJigsaw', 'montrealGlobev3', 'montrealJigSaw', 'montrealXLockerv5.0', 'montrealXLocker', 'montrealRazy', 'montrealCryptConsole', 'montrealGlobeImposter', 'montrealSam', 'montrealComradeCircle', 'montrealAPT', 'white']\n"
     ]
    }
   ],
   "source": [
    "# first visualization\n",
    "\n",
    "print(f\"dataset shape: {df.shape}\")\n",
    "print(f\"columns names: {df.columns.tolist()}\")\n",
    "print(df.head())\n",
    "\n",
    "labels_names = df['label'].unique().tolist()\n",
    "print(labels_names)"
   ]
  },
  {
   "cell_type": "markdown",
   "id": "6deb1f6e",
   "metadata": {},
   "source": [
    "### Traitement des données\n",
    "\n",
    "On change les label pour etre 0 si c'est white ou 1 si c'est un ransomware"
   ]
  },
  {
   "cell_type": "code",
   "execution_count": 7,
   "id": "5953f738",
   "metadata": {},
   "outputs": [
    {
     "name": "stdout",
     "output_type": "stream",
     "text": [
      "il y a 2875284 adresses blanches et 41413 ransomwares\n",
      "proportion de ransomwares: 0.014198595191752863\n"
     ]
    }
   ],
   "source": [
    "df['y'] = (df['label'] != 'white').astype(int)\n",
    "df_white = df[df['y'] == 0]\n",
    "df_ransomware = df[df['y'] == 1]\n",
    "print(f\"il y a {len(df_white)} adresses blanches et {len(df_ransomware)} ransomwares\")\n",
    "print(f\"proportion de ransomwares: {len(df_ransomware) / len(df)}\")"
   ]
  },
  {
   "cell_type": "code",
   "execution_count": 8,
   "id": "be32ffc0",
   "metadata": {},
   "outputs": [],
   "source": [
    "from sklearn.decomposition import PCA\n",
    "from sklearn.pipeline import Pipeline\n",
    "from sklearn.preprocessing import StandardScaler\n",
    "from sklearn.model_selection import GridSearchCV"
   ]
  },
  {
   "cell_type": "markdown",
   "id": "e585f267",
   "metadata": {},
   "source": [
    "On créé maintenant les X et y"
   ]
  },
  {
   "cell_type": "code",
   "execution_count": null,
   "id": "27084910",
   "metadata": {},
   "outputs": [
    {
     "data": {
      "text/plain": [
       "\"\\nto_log = ['income', 'weight', 'count', 'length']\\n# guard: only apply if columns exist in X\\nto_log = [c for c in to_log if c in X.columns]\\nX[to_log] = np.log1p(X[to_log])\\n\""
      ]
     },
     "execution_count": 18,
     "metadata": {},
     "output_type": "execute_result"
    }
   ],
   "source": [
    "# base features\n",
    "features = ['length','weight','count','looped','neighbors','income']\n",
    "X = df[features].copy()\n",
    "y = df['y'].values\n",
    "\n",
    "# Derived features\n",
    "# add small constants in denominators to avoid division by zero\n",
    "X['merge_efficiency'] = X_feat['weight'] / (X['count'] + 1)\n",
    "X['loop_ratio'] = X['looped'] / (X['count'] + 1)\n",
    "X['mix_complexity'] = X['length'] * X['count']\n",
    "X['income_per_neighbor'] = X['income'] / (X['neighbors'] + 1)\n",
    "X['mix_intensity'] = (X['length'] + X['looped']) / (X['neighbors'] + 1)\n",
    "\n",
    "# append derived features to the features list so they are included downstream\n",
    "derived = ['merge_efficiency','loop_ratio','mix_complexity','income_per_neighbor','mix_intensity']\n",
    "features = features + derived\n",
    "X\n",
    "\n",
    "# optionally transform skewed numeric columns (log1p) for a subset of features\n",
    "'''\n",
    "to_log = ['income', 'weight', 'count', 'length']\n",
    "# guard: only apply if columns exist in X\n",
    "to_log = [c for c in to_log if c in X.columns]\n",
    "X[to_log] = np.log1p(X[to_log])\n",
    "'''\n"
   ]
  },
  {
   "cell_type": "markdown",
   "id": "da1c7250",
   "metadata": {},
   "source": [
    "## Première idée sur Random forest -> pas fou"
   ]
  },
  {
   "cell_type": "markdown",
   "id": "40399f37",
   "metadata": {},
   "source": [
    "Importance de mettre **class_weight='balanced'**"
   ]
  },
  {
   "cell_type": "code",
   "execution_count": 11,
   "id": "c41a45b0",
   "metadata": {},
   "outputs": [
    {
     "data": {
      "text/plain": [
       "\"rf = RandomForestClassifier(\\n    n_estimators=1000,\\n    max_depth=10,\\n    class_weight='balanced',  # très important car dataset déséquilibré\\n    n_jobs=-1,\\n    random_state=42\\n)\\n\\nrf.fit(X_train, y_train)\\n\""
      ]
     },
     "execution_count": 11,
     "metadata": {},
     "output_type": "execute_result"
    }
   ],
   "source": [
    "\"\"\"rf = RandomForestClassifier(\n",
    "    n_estimators=1000,\n",
    "    max_depth=10,\n",
    "    class_weight='balanced',  # très important car dataset déséquilibré\n",
    "    n_jobs=-1,\n",
    "    random_state=42\n",
    ")\n",
    "\n",
    "rf.fit(X_train, y_train)\n",
    "\"\"\""
   ]
  },
  {
   "cell_type": "code",
   "execution_count": null,
   "id": "e4d95cca",
   "metadata": {},
   "outputs": [],
   "source": []
  },
  {
   "cell_type": "code",
   "execution_count": 12,
   "id": "96b538b5",
   "metadata": {},
   "outputs": [
    {
     "data": {
      "text/plain": [
       "'y_pred = rf.predict(X_test)\\ny_prob = rf.predict_proba(X_test)[:,1]\\n\\nprint(\"ROC-AUC :\", roc_auc_score(y_test, y_prob))\\nprint(\"PR-AUC :\", average_precision_score(y_test, y_prob))\\nprint(classification_report(y_test, y_pred, digits=4))\\nprint(confusion_matrix(y_test, y_pred))\\n'"
      ]
     },
     "execution_count": 12,
     "metadata": {},
     "output_type": "execute_result"
    }
   ],
   "source": [
    "\"\"\"y_pred = rf.predict(X_test)\n",
    "y_prob = rf.predict_proba(X_test)[:,1]\n",
    "\n",
    "print(\"ROC-AUC :\", roc_auc_score(y_test, y_prob))\n",
    "print(\"PR-AUC :\", average_precision_score(y_test, y_prob))\n",
    "print(classification_report(y_test, y_pred, digits=4))\n",
    "print(confusion_matrix(y_test, y_pred))\n",
    "\"\"\""
   ]
  },
  {
   "cell_type": "code",
   "execution_count": 13,
   "id": "c258ab19",
   "metadata": {},
   "outputs": [
    {
     "data": {
      "text/plain": [
       "'\"\\nimportances = rf.feature_importances_\\nsorted_idx = np.argsort(importances)[::-1]\\n\\nplt.barh(np.array(features)[sorted_idx], importances[sorted_idx])\\nplt.xlabel(\"Importance\")\\nplt.title(\"Feature Importance - Random Forest\")\\nplt.show()\\n'"
      ]
     },
     "execution_count": 13,
     "metadata": {},
     "output_type": "execute_result"
    }
   ],
   "source": [
    "\"\"\"\"\n",
    "importances = rf.feature_importances_\n",
    "sorted_idx = np.argsort(importances)[::-1]\n",
    "\n",
    "plt.barh(np.array(features)[sorted_idx], importances[sorted_idx])\n",
    "plt.xlabel(\"Importance\")\n",
    "plt.title(\"Feature Importance - Random Forest\")\n",
    "plt.show()\n",
    "\"\"\""
   ]
  },
  {
   "cell_type": "code",
   "execution_count": null,
   "id": "8db8bf91",
   "metadata": {},
   "outputs": [],
   "source": []
  },
  {
   "cell_type": "markdown",
   "id": "d8c7eb45",
   "metadata": {},
   "source": [
    "## Implémentation d'un novelty search"
   ]
  },
  {
   "cell_type": "code",
   "execution_count": 33,
   "id": "7c199503",
   "metadata": {},
   "outputs": [
    {
     "data": {
      "text/html": [
       "<div>\n",
       "<style scoped>\n",
       "    .dataframe tbody tr th:only-of-type {\n",
       "        vertical-align: middle;\n",
       "    }\n",
       "\n",
       "    .dataframe tbody tr th {\n",
       "        vertical-align: top;\n",
       "    }\n",
       "\n",
       "    .dataframe thead th {\n",
       "        text-align: right;\n",
       "    }\n",
       "</style>\n",
       "<table border=\"1\" class=\"dataframe\">\n",
       "  <thead>\n",
       "    <tr style=\"text-align: right;\">\n",
       "      <th></th>\n",
       "      <th>length</th>\n",
       "      <th>weight</th>\n",
       "      <th>count</th>\n",
       "      <th>looped</th>\n",
       "      <th>neighbors</th>\n",
       "      <th>income</th>\n",
       "    </tr>\n",
       "  </thead>\n",
       "  <tbody>\n",
       "    <tr>\n",
       "      <th>41413</th>\n",
       "      <td>0</td>\n",
       "      <td>1.0</td>\n",
       "      <td>1</td>\n",
       "      <td>0</td>\n",
       "      <td>1</td>\n",
       "      <td>5.000000e+09</td>\n",
       "    </tr>\n",
       "    <tr>\n",
       "      <th>41414</th>\n",
       "      <td>0</td>\n",
       "      <td>1.0</td>\n",
       "      <td>1</td>\n",
       "      <td>0</td>\n",
       "      <td>2</td>\n",
       "      <td>5.000000e+09</td>\n",
       "    </tr>\n",
       "    <tr>\n",
       "      <th>41415</th>\n",
       "      <td>0</td>\n",
       "      <td>1.0</td>\n",
       "      <td>1</td>\n",
       "      <td>0</td>\n",
       "      <td>2</td>\n",
       "      <td>9.150000e+08</td>\n",
       "    </tr>\n",
       "    <tr>\n",
       "      <th>41416</th>\n",
       "      <td>0</td>\n",
       "      <td>1.0</td>\n",
       "      <td>1</td>\n",
       "      <td>0</td>\n",
       "      <td>2</td>\n",
       "      <td>3.402500e+10</td>\n",
       "    </tr>\n",
       "    <tr>\n",
       "      <th>41417</th>\n",
       "      <td>0</td>\n",
       "      <td>1.0</td>\n",
       "      <td>1</td>\n",
       "      <td>0</td>\n",
       "      <td>2</td>\n",
       "      <td>1.275100e+10</td>\n",
       "    </tr>\n",
       "  </tbody>\n",
       "</table>\n",
       "</div>"
      ],
      "text/plain": [
       "       length  weight  count  looped  neighbors        income\n",
       "41413       0     1.0      1       0          1  5.000000e+09\n",
       "41414       0     1.0      1       0          2  5.000000e+09\n",
       "41415       0     1.0      1       0          2  9.150000e+08\n",
       "41416       0     1.0      1       0          2  3.402500e+10\n",
       "41417       0     1.0      1       0          2  1.275100e+10"
      ]
     },
     "execution_count": 33,
     "metadata": {},
     "output_type": "execute_result"
    }
   ],
   "source": [
    "\n",
    "X_attack = df[features][y == 1].copy()\n",
    "y_attack = df['y'][y == 1].values\n",
    "X_clean = df[features][y == 0].copy()\n",
    "y_clean = df['y'][y == 0].values\n",
    "\n",
    "X_clean.head()\n"
   ]
  },
  {
   "cell_type": "markdown",
   "id": "f83715f9",
   "metadata": {},
   "source": [
    "## Isolation forest tentative"
   ]
  },
  {
   "cell_type": "code",
   "execution_count": 15,
   "id": "4a45183e",
   "metadata": {},
   "outputs": [
    {
     "data": {
      "text/plain": [
       "'\"\\nfrom sklearn.ensemble import IsolationForest\\n\\nX_train = X.sample(frac=0.8, random_state=42)\\nX_test = X.drop(X_train.index)\\ny_train = y[X_train.index]\\ny_test = y[X_test.index]\\n\\n# Crée et entraîne le modèle Isolation Forest\\nclf = IsolationForest(n_estimators=1000, contamination=0.1, random_state=42)\\nclf.fit(X_train)\\n# Prédit les anomalies sur l\\'ensemble de test\\ny_pred = clf.predict(X_test)\\n\\nerreur_faux = (y_pred == 0) & (y_test == 1)\\nprint(f\"Nombre d\\'erreurs (faux négatifs) : {erreur_faux.sum()}\")\\n\\nerreur_vrai = (y_pred == 1) & (y_test == 0)\\n\\nprint(f\"Nombre d\\'erreurs (faux positifs) : {erreur_vrai.sum()}\")\\n'"
      ]
     },
     "execution_count": 15,
     "metadata": {},
     "output_type": "execute_result"
    }
   ],
   "source": [
    "\"\"\"\"\n",
    "from sklearn.ensemble import IsolationForest\n",
    "\n",
    "X_train = X.sample(frac=0.8, random_state=42)\n",
    "X_test = X.drop(X_train.index)\n",
    "y_train = y[X_train.index]\n",
    "y_test = y[X_test.index]\n",
    "\n",
    "# Crée et entraîne le modèle Isolation Forest\n",
    "clf = IsolationForest(n_estimators=1000, contamination=0.1, random_state=42)\n",
    "clf.fit(X_train)\n",
    "# Prédit les anomalies sur l'ensemble de test\n",
    "y_pred = clf.predict(X_test)\n",
    "\n",
    "erreur_faux = (y_pred == 0) & (y_test == 1)\n",
    "print(f\"Nombre d'erreurs (faux négatifs) : {erreur_faux.sum()}\")\n",
    "\n",
    "erreur_vrai = (y_pred == 1) & (y_test == 0)\n",
    "\n",
    "print(f\"Nombre d'erreurs (faux positifs) : {erreur_vrai.sum()}\")\n",
    "\"\"\"\n"
   ]
  },
  {
   "cell_type": "markdown",
   "id": "04ef71bb",
   "metadata": {},
   "source": [
    "## Data Engineering"
   ]
  },
  {
   "cell_type": "markdown",
   "id": "106c1aa5",
   "metadata": {},
   "source": [
    "### Tests right-skewedness"
   ]
  },
  {
   "cell_type": "markdown",
   "id": "95d01b09",
   "metadata": {},
   "source": []
  },
  {
   "cell_type": "code",
   "execution_count": 16,
   "id": "4abcc1e6",
   "metadata": {},
   "outputs": [
    {
     "ename": "NameError",
     "evalue": "name 'positive' is not defined",
     "output_type": "error",
     "traceback": [
      "\u001b[31m---------------------------------------------------------------------------\u001b[39m",
      "\u001b[31mNameError\u001b[39m                                 Traceback (most recent call last)",
      "\u001b[36mCell\u001b[39m\u001b[36m \u001b[39m\u001b[32mIn[16]\u001b[39m\u001b[32m, line 27\u001b[39m\n\u001b[32m     25\u001b[39m \u001b[38;5;66;03m# set same x-limits for comparison\u001b[39;00m\n\u001b[32m     26\u001b[39m xmin, xmax = data_all.min(), data_all.max()\n\u001b[32m---> \u001b[39m\u001b[32m27\u001b[39m \u001b[38;5;28;01mif\u001b[39;00m \u001b[43mpositive\u001b[49m:\n\u001b[32m     28\u001b[39m     \u001b[38;5;28;01mif\u001b[39;00m xmin <= \u001b[32m0\u001b[39m: xmin = data_all[data_all>\u001b[32m0\u001b[39m].min()\n\u001b[32m     29\u001b[39m     axes[\u001b[32m0\u001b[39m].set_xscale(\u001b[33m'\u001b[39m\u001b[33mlog\u001b[39m\u001b[33m'\u001b[39m)\n",
      "\u001b[31mNameError\u001b[39m: name 'positive' is not defined"
     ]
    },
    {
     "data": {
      "image/png": "[encoded data removed]",
      "text/plain": [
       "<Figure size 1200x400 with 2 Axes>"
      ]
     },
     "metadata": {},
     "output_type": "display_data"
    }
   ],
   "source": [
    "import seaborn as sns\n",
    "import matplotlib.pyplot as plt\n",
    "\n",
    "features = ['length', 'weight', 'count', 'looped', 'neighbors', 'income']\n",
    "for col in features:\n",
    "    # determine common x-limits for fair comparison (use log scale if data is positive)\n",
    "    data_all = pd.concat([df_white[col], df_ransomware[col]])\n",
    "    # if values are strictly positive, we can show log-scaled kde; else keep linear\n",
    "    #positive = (data_all > 0).all()\n",
    "\n",
    "    fig, axes = plt.subplots(1, 2, figsize=(12, 4), sharex=True)\n",
    "    '''\n",
    "    if positive:\n",
    "        sns.kdeplot(data=df_white, x=col, common_norm=False, ax=axes[0], log_scale=True, fill=True, bw_method='scott')\n",
    "        axes[0].set_title(f'Distribution of {col} (white addresses) - log scale')\n",
    "        sns.kdeplot(data=df_ransomware, x=col, common_norm=False, ax=axes[1], log_scale=True, fill=True, bw_method='scott')\n",
    "        axes[1].set_title(f'Distribution of {col} (ransomwares) - log scale')\n",
    "    else:\n",
    "    '''\n",
    "    sns.kdeplot(data=df_white, x=col, common_norm=False, ax=axes[0], fill=True, bw_method='scott')\n",
    "    axes[0].set_title(f'Distribution of {col} (white addresses)')\n",
    "    sns.kdeplot(data=df_ransomware, x=col, common_norm=False, ax=axes[1], fill=True, bw_method='scott')\n",
    "    axes[1].set_title(f'Distribution of {col} (ransomwares)')\n",
    "\n",
    "    # set same x-limits for comparison\n",
    "    xmin, xmax = data_all.min(), data_all.max()\n",
    "    if positive:\n",
    "        if xmin <= 0: xmin = data_all[data_all>0].min()\n",
    "        axes[0].set_xscale('log')\n",
    "        axes[1].set_xscale('log')\n",
    "    axes[0].set_xlim(xmin, xmax)\n",
    "\n",
    "    plt.tight_layout()\n",
    "    plt.show()\n"
   ]
  },
  {
   "cell_type": "markdown",
   "id": "b9576856",
   "metadata": {},
   "source": [
    "We will try using both raw and log values of each feature to determine which has most imoprtance"
   ]
  },
  {
   "cell_type": "code",
   "execution_count": null,
   "id": "6647f2d9",
   "metadata": {},
   "outputs": [],
   "source": [
    "# adding the log features to see if they improve model performance\n",
    "X_log = X.copy()\n",
    "for feature in features:\n",
    "    X_log[f'log_{feature}'] = np.log1p(X_log[feature])      \n"
   ]
  },
  {
   "cell_type": "code",
   "execution_count": null,
   "id": "0f71bb37",
   "metadata": {},
   "outputs": [],
   "source": [
    "X_train = X.sample(frac=0.8, random_state=42)\n",
    "X_test = X.drop(X_train.index)\n",
    "y_train = y[X_train.index]\n",
    "y_test = y[X_test.index]\n"
   ]
  },
  {
   "cell_type": "code",
   "execution_count": null,
   "id": "e74d7ce7",
   "metadata": {},
   "outputs": [],
   "source": [
    "model = RandomForestClassifier(\n",
    "    n_estimators=100,\n",
    "    max_depth=15,\n",
    "    class_weight='balanced',  # très important car dataset déséquilibré\n",
    "    n_jobs=-1)\n",
    "model.fit(X_train, y_train)\n",
    "\n",
    "y_pred = model.predict(X_test)\n",
    "print(classification_report(y_test, y_pred))\n",
    "print(confusion_matrix(y_test, y_pred))"
   ]
  },
  {
   "cell_type": "markdown",
   "id": "a009c2e7",
   "metadata": {},
   "source": [
    "              precision    recall  f1-score   support\n",
    "\n",
    "           0       1.00      0.64      0.78    574995\n",
    "           1       0.03      0.80      0.06      8344\n",
    "\n",
    "    accuracy                           0.64    583339\n",
    "   macro avg       0.51      0.72      0.42    583339\n",
    "weighted avg       0.98      0.64      0.77    583339\n",
    "\n",
    "[[369014 205981]\n",
    " [  1689   6655]]\n",
    "\n",
    " aucune diff en passant de 300 à 500 de depth"
   ]
  },
  {
   "cell_type": "markdown",
   "id": "3d2544ce",
   "metadata": {},
   "source": [
    "### Test des features de combinaisons linéaires"
   ]
  },
  {
   "cell_type": "code",
   "execution_count": 20,
   "id": "0d56af37",
   "metadata": {},
   "outputs": [
    {
     "data": {
      "text/plain": [
       "\"\\nto_log = ['income', 'weight', 'count', 'length']\\n# guard: only apply if columns exist in X\\nto_log = [c for c in to_log if c in X.columns]\\nX[to_log] = np.log1p(X[to_log])\\n\""
      ]
     },
     "execution_count": 20,
     "metadata": {},
     "output_type": "execute_result"
    }
   ],
   "source": [
    "# base features\n",
    "features = ['length','weight','count','looped','neighbors','income']\n",
    "X_feat = X[features].copy()\n",
    "\n",
    "# Derived features\n",
    "# add small constants in denominators to avoid division by zero\n",
    "X_feat['merge_efficiency'] = X_feat['weight'] / (X_feat['count'] + 1)\n",
    "X_feat['loop_ratio'] = X_feat['looped'] / (X_feat['count'] + 1)\n",
    "X_feat['mix_complexity'] = X_feat['length'] * X_feat['count']\n",
    "X_feat['income_per_neighbor'] = X_feat['income'] / (X_feat['neighbors'] + 1)\n",
    "X_feat['mix_intensity'] = (X_feat['length'] + X_feat['looped']) / (X_feat['neighbors'] + 1)\n",
    "\n",
    "\n",
    "# optionally transform skewed numeric columns (log1p) for a subset of features\n",
    "'''\n",
    "to_log = ['income', 'weight', 'count', 'length']\n",
    "# guard: only apply if columns exist in X\n",
    "to_log = [c for c in to_log if c in X.columns]\n",
    "X[to_log] = np.log1p(X[to_log])\n",
    "'''"
   ]
  },
  {
   "cell_type": "code",
   "execution_count": 37,
   "id": "5ee28472",
   "metadata": {},
   "outputs": [],
   "source": [
    "# Sample 80% for training, 20% for testing\n",
    "X_attack_train = X_attack.sample(frac=0.8, random_state=42)\n",
    "X_clean_train = X_clean.sample(frac=0.8, random_state=42)\n",
    "\n",
    "train_indices = X_attack_train.index.append(X_clean_train.index)\n",
    "test_indices = X_feat.index.difference(train_indices)\n",
    "\n",
    "X_train_feat = X_feat.loc[train_indices]\n",
    "X_test_feat = X_feat.loc[test_indices]\n",
    "y_train_feat = y[train_indices]\n",
    "y_test_feat = y[test_indices]"
   ]
  },
  {
   "cell_type": "code",
   "execution_count": null,
   "id": "d719f99b",
   "metadata": {},
   "outputs": [
    {
     "name": "stdout",
     "output_type": "stream",
     "text": [
      "              precision    recall  f1-score   support\n",
      "\n",
      "           0       0.99      1.00      0.99    575057\n",
      "           1       0.89      0.00      0.00      8283\n",
      "\n",
      "    accuracy                           0.99    583340\n",
      "   macro avg       0.94      0.50      0.50    583340\n",
      "weighted avg       0.98      0.99      0.98    583340\n",
      "\n",
      "[[575055      2]\n",
      " [  8266     17]]\n"
     ]
    }
   ],
   "source": [
    "model = RandomForestClassifier(\n",
    "    n_estimators=100,\n",
    "    max_depth=10,\n",
    "    #class_weight='balanced',  # très important car dataset déséquilibré\n",
    "    n_jobs=-1)\n",
    "model.fit(X_train_feat, y_train_feat)\n",
    "\n",
    "y_pred_feat = model.predict(X_test_feat)\n",
    "print(classification_report(y_test_feat, y_pred_feat))\n",
    "print(confusion_matrix(y_test_feat, y_pred_feat))"
   ]
  },
  {
   "cell_type": "code",
   "execution_count": 39,
   "id": "3c584a86",
   "metadata": {},
   "outputs": [
    {
     "name": "stdout",
     "output_type": "stream",
     "text": [
      "[[575055   8266]\n",
      " [     2     17]]\n"
     ]
    }
   ],
   "source": [
    "print(confusion_matrix(y_pred_feat, y_test_feat))"
   ]
  },
  {
   "cell_type": "code",
   "execution_count": null,
   "id": "debe4168",
   "metadata": {},
   "outputs": [],
   "source": []
  }
 ],
 "metadata": {
  "kernelspec": {
   "display_name": "myenv",
   "language": "python",
   "name": "python3"
  },
  "language_info": {
   "codemirror_mode": {
    "name": "ipython",
    "version": 3
   },
   "file_extension": ".py",
   "mimetype": "text/x-python",
   "name": "python",
   "nbconvert_exporter": "python",
   "pygments_lexer": "ipython3",
   "version": "3.12.11"
  }
 },
 "nbformat": 4,
 "nbformat_minor": 5
}
